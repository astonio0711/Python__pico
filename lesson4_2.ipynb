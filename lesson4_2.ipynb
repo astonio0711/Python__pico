{
 "cells": [
  {
   "cell_type": "code",
   "execution_count": null,
   "metadata": {},
   "outputs": [],
   "source": [
    "#學生總分為300\n",
    "#有些學生可以加分5%\n",
    "#如果加分超過300以300\n",
    "#輸入超過300分, 出現警告\n",
    "\n",
    "try:\n",
    "    scores = int(input(\"請輸入學生分數\"))\n",
    "\n",
    "except ValueError as err:\n",
    "    print(f\"輸入錯誤{err}\")\n",
    "except TypeError as err:\n",
    "    print(f\"類型錯誤{err}\")\n",
    "except:\n",
    "    print(\"不知名的錯誤\")\n",
    "else:\n",
    "    if scores <= 300:\n",
    "        is_add = input(\"學生是否符合加分條件?(y,n)\")\n",
    "\n",
    "        if is_add == 'y':\n",
    "            scores *=1.05\n",
    "            if scores > 300: scores = 300\n",
    "        print(f\"輸入學生分數為:{scores}\")\n",
    "\n",
    "    else: print(\"輸入錯誤\")"
   ]
  },
  {
   "cell_type": "code",
   "execution_count": 2,
   "metadata": {},
   "outputs": [],
   "source": [
    "import pyinputplus as pyip\n",
    "\n",
    "result = pyip.inputNum(min=4, max=6)"
   ]
  },
  {
   "cell_type": "code",
   "execution_count": 6,
   "metadata": {},
   "outputs": [
    {
     "name": "stdout",
     "output_type": "stream",
     "text": [
      "請輸入學生分數(最高300分):\n",
      "輸入學生分數為:300\n"
     ]
    }
   ],
   "source": [
    "import pyinputplus as pyip\n",
    "\n",
    "scores = pyip.inputNum(prompt=\"請輸入學生分數(最高300分):\",min=0, max=300)\n",
    "\n",
    "is_add = input(\"學生是否符合加分條件?(y,n)\")\n",
    "\n",
    "if is_add == 'y':\n",
    "    scores *=1.05\n",
    "    if scores > 300: scores = 300\n",
    "print(f\"\\n輸入學生分數為:{scores}\")\n"
   ]
  },
  {
   "cell_type": "code",
   "execution_count": 4,
   "metadata": {},
   "outputs": [
    {
     "name": "stdout",
     "output_type": "stream",
     "text": [
      "Help on function inputNum in module pyinputplus:\n",
      "\n",
      "inputNum(prompt='', default=None, blank=False, timeout=None, limit=None, strip=None, allowRegexes=None, blockRegexes=None, applyFunc=None, postValidateApplyFunc=None, min=None, max=None, greaterThan=None, lessThan=None)\n",
      "    Prompts the user to enter a number, either an integer or a floating-point\n",
      "    value. Returns an int or float value (depending on if the user entered a\n",
      "    decimal in their input.)\n",
      "    \n",
      "    Run ``help(pyinputplus.parameters)`` for an explanation of the common parameters.\n",
      "    \n",
      "    * ``min`` (None, float): If not ``None``, the minimum accepted numeric value, including the minimum argument.\n",
      "    * ``max`` (None, float): If not ``None``, the maximum accepted numeric value, including the maximum argument.\n",
      "    * ``greaterThan`` (None, float): If not ``None``, the minimum accepted numeric value, not including the ``greaterThan`` argument.\n",
      "    * ``lessThan`` (None, float): If not ``None``, the maximum accepted numeric value, not including the ``lessThan`` argument.\n",
      "    \n",
      "    >>> import pyinputplus as pyip\n",
      "    >>> response = pyip.inputNum()\n",
      "    forty two\n",
      "    'forty two' is not a number.\n",
      "    42\n",
      "    >>> response\n",
      "    42\n",
      "    >>> response = pyip.inputNum()\n",
      "    9\n",
      "    >>> type(response)\n",
      "    <class 'int'>\n",
      "    >>> response = pyip.inputNum()\n",
      "    9.0\n",
      "    >>> type(response)\n",
      "    <class 'float'>\n",
      "    >>> response = pyip.inputNum(min=4)\n",
      "    3\n",
      "    Number must be at minimum 4.\n",
      "    4\n",
      "    >>> response\n",
      "    4\n",
      "    >>> response = pyip.inputNum(greaterThan=4)\n",
      "    4\n",
      "    Number must be greater than 4.\n",
      "    4.1\n",
      "    >>> response\n",
      "    4.1\n",
      "    >>> response = pyip.inputNum(limit=2)\n",
      "    dog\n",
      "    'dog' is not a number.\n",
      "    cat\n",
      "    'cat' is not a number.\n",
      "    Traceback (most recent call last):\n",
      "        ...\n",
      "    pyinputplus.RetryLimitException\n",
      "\n"
     ]
    }
   ],
   "source": [
    "help(pyip.inputNum)"
   ]
  }
 ],
 "metadata": {
  "kernelspec": {
   "display_name": "Python 3",
   "language": "python",
   "name": "python3"
  },
  "language_info": {
   "codemirror_mode": {
    "name": "ipython",
    "version": 3
   },
   "file_extension": ".py",
   "mimetype": "text/x-python",
   "name": "python",
   "nbconvert_exporter": "python",
   "pygments_lexer": "ipython3",
   "version": "3.10.13"
  }
 },
 "nbformat": 4,
 "nbformat_minor": 2
}
