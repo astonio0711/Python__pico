{
 "cells": [
  {
   "cell_type": "code",
   "execution_count": 1,
   "metadata": {},
   "outputs": [
    {
     "name": "stdout",
     "output_type": "stream",
     "text": [
      "Hello World!\n"
     ]
    }
   ],
   "source": [
    "print(\"Hello World!\")"
   ]
  },
  {
   "cell_type": "code",
   "execution_count": 2,
   "metadata": {},
   "outputs": [
    {
     "data": {
      "text/plain": [
       "10"
      ]
     },
     "execution_count": 2,
     "metadata": {},
     "output_type": "execute_result"
    }
   ],
   "source": [
    "n = 10\n",
    "n + 5\n",
    "n"
   ]
  },
  {
   "cell_type": "code",
   "execution_count": 4,
   "metadata": {},
   "outputs": [
    {
     "data": {
      "text/plain": [
       "15"
      ]
     },
     "execution_count": 4,
     "metadata": {},
     "output_type": "execute_result"
    }
   ],
   "source": [
    "n = 10\n",
    "n += 5\n",
    "n"
   ]
  },
  {
   "cell_type": "code",
   "execution_count": 5,
   "metadata": {},
   "outputs": [
    {
     "data": {
      "text/plain": [
       "7.0"
      ]
     },
     "execution_count": 5,
     "metadata": {},
     "output_type": "execute_result"
    }
   ],
   "source": [
    "# 0, 5, 9, 14\n",
    "value1 = 0\n",
    "value1 += 0\n",
    "value1 += 5\n",
    "value1 += 9\n",
    "value1 += 14\n",
    "value1 / 4"
   ]
  },
  {
   "cell_type": "code",
   "execution_count": 6,
   "metadata": {},
   "outputs": [
    {
     "data": {
      "text/plain": [
       "7.0"
      ]
     },
     "execution_count": 6,
     "metadata": {},
     "output_type": "execute_result"
    }
   ],
   "source": [
    "# 5, 6, 8, 9\n",
    "value1 = 0\n",
    "value1 += 5\n",
    "value1 += 6\n",
    "value1 += 8\n",
    "value1 += 9\n",
    "value1 / 4"
   ]
  },
  {
   "cell_type": "code",
   "execution_count": 9,
   "metadata": {},
   "outputs": [
    {
     "name": "stdout",
     "output_type": "stream",
     "text": [
      "[0, 5, 9, 14]的平均值為7\n",
      "[5, 6, 8, 9]的平均值為7\n",
      "[0, 5, 9, 14]的標準差為5.94418483337567\n",
      "[5, 6, 8, 9]的標準差為1.8257418583505538\n"
     ]
    }
   ],
   "source": [
    "from statistics import mean, stdev\n",
    "\n",
    "mean1 = mean([0, 5, 9, 14])\n",
    "mean2 = mean([5, 6, 8, 9])\n",
    "stdev1 = stdev([0, 5, 9, 14])\n",
    "stdev2 = stdev([5, 6, 8, 9])\n",
    "print(f\"[0, 5, 9, 14]的平均值為{mean1}\")\n",
    "print(f\"[0, 5, 9, 14]的標準差為{stdev1}\")\n",
    "print(f\"[5, 6, 8, 9]的平均值為{mean2}\")\n",
    "print(f\"[5, 6, 8, 9]的標準差為{stdev2}\")\n"
   ]
  }
 ],
 "metadata": {
  "kernelspec": {
   "display_name": "Python 3",
   "language": "python",
   "name": "python3"
  },
  "language_info": {
   "codemirror_mode": {
    "name": "ipython",
    "version": 3
   },
   "file_extension": ".py",
   "mimetype": "text/x-python",
   "name": "python",
   "nbconvert_exporter": "python",
   "pygments_lexer": "ipython3",
   "version": "3.10.13"
  }
 },
 "nbformat": 4,
 "nbformat_minor": 2
}
